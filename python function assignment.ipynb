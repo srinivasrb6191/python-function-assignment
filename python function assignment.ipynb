{
 "cells": [
  {
   "cell_type": "markdown",
   "id": "677e0825",
   "metadata": {},
   "source": [
    "##### 1. In Python, what is the difference between a built-in function and a user-defined function? Provide an example of each.\n",
    "Ans: Built-in functions are already provided by Python, while user-defined functions are created by developers to add custom functionality to their programs."
   ]
  },
  {
   "cell_type": "code",
   "execution_count": 1,
   "id": "fd3707dc",
   "metadata": {},
   "outputs": [
    {
     "name": "stdout",
     "output_type": "stream",
     "text": [
      "Hello, World!\n"
     ]
    }
   ],
   "source": [
    "print(\"Hello, World!\")#print is built-in function"
   ]
  },
  {
   "cell_type": "code",
   "execution_count": 2,
   "id": "46539c6a",
   "metadata": {},
   "outputs": [
    {
     "name": "stdout",
     "output_type": "stream",
     "text": [
      "Hello, World!\n"
     ]
    }
   ],
   "source": [
    "# Defining a user-defined function\n",
    "def greet(name):\n",
    "    print(\"Hello, \" + name + \"!\")\n",
    "\n",
    "# Calling the user-defined function\n",
    "greet(\"World\")"
   ]
  },
  {
   "cell_type": "markdown",
   "id": "5ccdb7f5",
   "metadata": {},
   "source": [
    "##### 2. How can you pass arguments to a function in Python? Explain the difference between positional arguments and keyword arguments.\n",
    "Ans: Arguments are specified after the function name, inside the parentheses. You can add as many arguments as you want, just separate them with a comma."
   ]
  },
  {
   "cell_type": "code",
   "execution_count": 3,
   "id": "9845a27f",
   "metadata": {},
   "outputs": [
    {
     "name": "stdout",
     "output_type": "stream",
     "text": [
      "Apple --Fruit\n",
      "orange --Fruit\n",
      "Banana --Fruit\n"
     ]
    }
   ],
   "source": [
    "def fruit_name(fname):\n",
    "  print(fname + \" --Fruit\")\n",
    "\n",
    "fruit_name(\"Apple\")\n",
    "fruit_name(\"orange\")\n",
    "fruit_name(\"Banana\")"
   ]
  },
  {
   "cell_type": "markdown",
   "id": "be64f565",
   "metadata": {},
   "source": [
    "###### Positional arguments must be included in the correct order. Keyword arguments are included with a keyword and equals sign."
   ]
  },
  {
   "cell_type": "markdown",
   "id": "fd65c335",
   "metadata": {},
   "source": [
    "###### 3. What is the purpose of the return statement in a function? Can a function have multiple return statements? Explain with an example.\n",
    "Ans: The return statement in a function is used to specify the value or values that the function should send back as the result of its execution. It serves the purpose of terminating the function and providing an output or value that can be used by the calling code.\n",
    "\n",
    "A function can have multiple return statements.Having multiple return statements allows you to conditionally return different values based on specific conditions within the function"
   ]
  },
  {
   "cell_type": "code",
   "execution_count": 4,
   "id": "c7528e18",
   "metadata": {},
   "outputs": [
    {
     "name": "stdout",
     "output_type": "stream",
     "text": [
      "B\n"
     ]
    }
   ],
   "source": [
    "def get_grade(score):\n",
    "    if score >= 90:\n",
    "        return \"A\"\n",
    "    elif score >= 80:\n",
    "        return \"B\"\n",
    "    elif score >= 70:\n",
    "        return \"C\"\n",
    "    else:\n",
    "        return \"F\"\n",
    "\n",
    "student_score = 85\n",
    "grade = get_grade(student_score)\n",
    "print(grade)"
   ]
  },
  {
   "cell_type": "markdown",
   "id": "6bc3db0c",
   "metadata": {},
   "source": [
    "###### 4. What are lambda functions in Python? How are they different from regular functions? Provide an example where a lambda function can be useful.\n",
    "\n",
    "Ans. A lambda function is a small anonymous function.A lambda function can take any number of arguments, but can only have one expression\n",
    "\n",
    "A lambda function is an anonymous function that can take any number of arguments but, unlike normal functions, evaluates and returns only one expression. Lambda functions are defined using the lambda keyword followed by parameters and an expression.Regular functions are defined using the def keyword, a function name, parameters within parentheses and a colon."
   ]
  },
  {
   "cell_type": "code",
   "execution_count": 5,
   "id": "475ef0ee",
   "metadata": {},
   "outputs": [
    {
     "name": "stdout",
     "output_type": "stream",
     "text": [
      "[2, 4, 6, 8, 10]\n"
     ]
    }
   ],
   "source": [
    "numbers = [1, 2, 3, 4, 5, 6, 7, 8, 9, 10]\n",
    "\n",
    "even_numbers = list(filter(lambda x: x % 2 == 0, numbers))\n",
    "print(even_numbers)"
   ]
  },
  {
   "cell_type": "markdown",
   "id": "04479282",
   "metadata": {},
   "source": [
    "###### 5. How does the concept of \"scope\" apply to functions in Python? Explain the difference between local scope and global scope.\n",
    "Ans. In Python, scope is the context in which a variable is defined, and this context determines how a variable can be used throughout the code.\n",
    "\n",
    "the difference between local scope and global scope -\n",
    "\n",
    "Local scope refers to the innermost or most specific level of scope. Variables defined within a function are said to have local scope, which means they are only accessible within that function."
   ]
  },
  {
   "cell_type": "code",
   "execution_count": 6,
   "id": "63cc9637",
   "metadata": {},
   "outputs": [
    {
     "name": "stdout",
     "output_type": "stream",
     "text": [
      "10\n"
     ]
    }
   ],
   "source": [
    "def my_function():\n",
    "    x = 10  # x is a local variable\n",
    "    print(x)\n",
    "my_function()"
   ]
  },
  {
   "cell_type": "markdown",
   "id": "461f8dc5",
   "metadata": {},
   "source": [
    "#### Global scope refers to the outermost or broader level of scope. Variables defined outside of any function or at the top level of a script have global scope."
   ]
  },
  {
   "cell_type": "code",
   "execution_count": 7,
   "id": "4d90d6cd",
   "metadata": {},
   "outputs": [
    {
     "name": "stdout",
     "output_type": "stream",
     "text": [
      "20\n"
     ]
    }
   ],
   "source": [
    "x = 10  # x is a global variable\n",
    "\n",
    "def my_function():\n",
    "    global x  # Use the global keyword to modify the global variable x\n",
    "    x = 20\n",
    "    print(x)\n",
    "\n",
    "my_function()"
   ]
  },
  {
   "cell_type": "markdown",
   "id": "d4cd8156",
   "metadata": {},
   "source": [
    "##### 6. How can you use the \"return\" statement in a Python function to return multiple values?\n",
    "Ans. In Python, we can use the 'return' statement in a function to return multiple values by placing those values in a data structure like a tuple, list, or dictionary.\n",
    "\n",
    "\n",
    "using tuple\n"
   ]
  },
  {
   "cell_type": "code",
   "execution_count": 8,
   "id": "55ca1248",
   "metadata": {},
   "outputs": [
    {
     "name": "stdout",
     "output_type": "stream",
     "text": [
      "(10, 20, 30)\n"
     ]
    }
   ],
   "source": [
    "def multiple_values():\n",
    "    a = 10\n",
    "    b = 20\n",
    "    c = 30\n",
    "    return a, b, c\n",
    "\n",
    "result = multiple_values()\n",
    "print(result)"
   ]
  },
  {
   "cell_type": "code",
   "execution_count": 10,
   "id": "31864fbb",
   "metadata": {},
   "outputs": [
    {
     "name": "stdout",
     "output_type": "stream",
     "text": [
      "[10, 20, 30]\n"
     ]
    }
   ],
   "source": [
    "##using list\n",
    "\n",
    "def multiple_values():\n",
    "    a = 10\n",
    "    b = 20\n",
    "    c = 30\n",
    "    return [a, b, c]\n",
    "\n",
    "result = multiple_values()\n",
    "print(result)"
   ]
  },
  {
   "cell_type": "code",
   "execution_count": 11,
   "id": "2a2ccede",
   "metadata": {},
   "outputs": [
    {
     "name": "stdout",
     "output_type": "stream",
     "text": [
      "{'First': 10, 'Second': 20, 'Third': 30}\n"
     ]
    }
   ],
   "source": [
    "### using dictinary\n",
    "def multiple_values():\n",
    "    a = 10\n",
    "    b = 20\n",
    "    c = 30\n",
    "    return {\"First\": a,\"Second\": b,\"Third\": c}\n",
    "\n",
    "result = multiple_values()\n",
    "print(result)"
   ]
  },
  {
   "cell_type": "markdown",
   "id": "43f11c5f",
   "metadata": {},
   "source": [
    "##### 7. What is the difference between the \"pass by value\" and \"pass by reference\" concepts when it comes to function arguments in Python?\n",
    "Ans. Python does not have \"pass by value\" or \"pass by reference\" like some other programming languages. It uses \"pass by object reference\" or \"call by sharing,\" where the reference to the object is passed to the function, and modifications to the object are reflected outside the function.\n",
    "\n",
    "8. Create a function that can intake integer or decimal value and do following operations:\n",
    "\n",
    "a. Logarithmic function (log x)\n",
    "\n",
    "b. Exponential function (exp(x))\n",
    "\n",
    "c. Power function with base 2 (2x)\n",
    "\n",
    "d. Square root"
   ]
  },
  {
   "cell_type": "code",
   "execution_count": 12,
   "id": "fb12353a",
   "metadata": {},
   "outputs": [
    {
     "name": "stdout",
     "output_type": "stream",
     "text": [
      "Enter a number (integer or decimal): 45\n",
      "Logarithmic function (log x): 3.8066624897703196\n",
      "Exponential function (exp(x)): 3.4934271057485095e+19\n",
      "Power function with base 2 (2x): 35184372088832.0\n",
      "Square root: 6.708203932499369\n"
     ]
    }
   ],
   "source": [
    "import math\n",
    "\n",
    "def math_ops(x):\n",
    "    try:\n",
    "        x = float(x)\n",
    "        \n",
    "        logarithm = math.log(x)\n",
    "        exponential = math.exp(x)\n",
    "        power_of_two = 2 ** x\n",
    "        square_root = math.sqrt(x)\n",
    "        \n",
    "        return{\n",
    "            'Logarithmic function (log x)': logarithm,\n",
    "            'Exponential function (exp(x))': exponential,\n",
    "            'Power function with base 2 (2x)': power_of_two,\n",
    "            'Square root': square_root\n",
    "        }\n",
    "    except ValueError:\n",
    "        return \"Invalid input. Please enter a valid number.\"\n",
    "    \n",
    "value = input(\"Enter a number (integer or decimal): \")\n",
    "result = math_ops(value)\n",
    "if isinstance(result, dict):\n",
    "    for operation, value in result.items():\n",
    "        print(f\"{operation}: {value}\")\n",
    "else:\n",
    "    print(result)    "
   ]
  },
  {
   "cell_type": "markdown",
   "id": "df82753a",
   "metadata": {},
   "source": [
    "###### 9. Create a function that takes a full name as an argument and returns first name and last name."
   ]
  },
  {
   "cell_type": "code",
   "execution_count": 14,
   "id": "5d811a6f",
   "metadata": {},
   "outputs": [
    {
     "name": "stdout",
     "output_type": "stream",
     "text": [
      "Enter your full name: srinivas bennurkar\n",
      "('srinivas', 'bennurkar')\n",
      "First Name: srinivas\n",
      "Last Name: bennurkar\n"
     ]
    }
   ],
   "source": [
    "full_name = input(\"Enter your full name: \")\n",
    "\n",
    "def split_full_name(fullname):\n",
    "    name_parts = fullname.split()\n",
    "    \n",
    "    if len(name_parts) >= 2:\n",
    "        first_name = name_parts[0]\n",
    "        last_name = name_parts[-1]\n",
    "        return(first_name,last_name)\n",
    "    else:\n",
    "        return \"Invalid Format\"\n",
    "    \n",
    "    \n",
    "name_parts = split_full_name(full_name)\n",
    "print(name_parts)\n",
    "\n",
    "if isinstance(name_parts, tuple):\n",
    "    first_name, last_name = name_parts\n",
    "    print(f\"First Name: {first_name}\")\n",
    "    print(f\"Last Name: {last_name}\")\n",
    "else:\n",
    "    print(name_parts)"
   ]
  },
  {
   "cell_type": "code",
   "execution_count": null,
   "id": "407b4524",
   "metadata": {},
   "outputs": [],
   "source": []
  }
 ],
 "metadata": {
  "kernelspec": {
   "display_name": "Python 3 (ipykernel)",
   "language": "python",
   "name": "python3"
  },
  "language_info": {
   "codemirror_mode": {
    "name": "ipython",
    "version": 3
   },
   "file_extension": ".py",
   "mimetype": "text/x-python",
   "name": "python",
   "nbconvert_exporter": "python",
   "pygments_lexer": "ipython3",
   "version": "3.10.9"
  }
 },
 "nbformat": 4,
 "nbformat_minor": 5
}
